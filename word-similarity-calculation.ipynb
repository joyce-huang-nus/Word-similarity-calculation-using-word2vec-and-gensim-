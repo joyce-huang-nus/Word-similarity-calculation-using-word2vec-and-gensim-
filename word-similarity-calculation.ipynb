{
 "cells": [
  {
   "cell_type": "code",
   "execution_count": 1,
   "id": "d90becf5",
   "metadata": {},
   "outputs": [],
   "source": [
    "import re  \n",
    "import pandas as pd \n",
    "from collections import defaultdict  # For word frequency\n",
    "import logging  # Setting up the loggings to monitor gensim\n",
    "logging.basicConfig(format=\"%(levelname)s - %(asctime)s: %(message)s\", datefmt= '%H:%M:%S', level=logging.INFO)"
   ]
  },
  {
   "cell_type": "code",
   "execution_count": 2,
   "id": "5411c596",
   "metadata": {},
   "outputs": [
    {
     "data": {
      "text/html": [
       "<div>\n",
       "<style scoped>\n",
       "    .dataframe tbody tr th:only-of-type {\n",
       "        vertical-align: middle;\n",
       "    }\n",
       "\n",
       "    .dataframe tbody tr th {\n",
       "        vertical-align: top;\n",
       "    }\n",
       "\n",
       "    .dataframe thead th {\n",
       "        text-align: right;\n",
       "    }\n",
       "</style>\n",
       "<table border=\"1\" class=\"dataframe\">\n",
       "  <thead>\n",
       "    <tr style=\"text-align: right;\">\n",
       "      <th></th>\n",
       "      <th>sentiments</th>\n",
       "      <th>text</th>\n",
       "    </tr>\n",
       "  </thead>\n",
       "  <tbody>\n",
       "    <tr>\n",
       "      <th>0</th>\n",
       "      <td>neutral</td>\n",
       "      <td>According to Gran , the company has no plans t...</td>\n",
       "    </tr>\n",
       "    <tr>\n",
       "      <th>1</th>\n",
       "      <td>neutral</td>\n",
       "      <td>Technopolis plans to develop in stages an area...</td>\n",
       "    </tr>\n",
       "    <tr>\n",
       "      <th>2</th>\n",
       "      <td>negative</td>\n",
       "      <td>The international electronic industry company ...</td>\n",
       "    </tr>\n",
       "  </tbody>\n",
       "</table>\n",
       "</div>"
      ],
      "text/plain": [
       "  sentiments                                               text\n",
       "0    neutral  According to Gran , the company has no plans t...\n",
       "1    neutral  Technopolis plans to develop in stages an area...\n",
       "2   negative  The international electronic industry company ..."
      ]
     },
     "execution_count": 2,
     "metadata": {},
     "output_type": "execute_result"
    }
   ],
   "source": [
    "df = pd.read_csv(r'C:\\Users\\Joyce Huang\\Downloads\\financial-news-sentiments.csv.', index_col=None)\n",
    "df.head(3)"
   ]
  },
  {
   "cell_type": "code",
   "execution_count": 3,
   "id": "b643df81",
   "metadata": {},
   "outputs": [],
   "source": [
    "df = df[['text']]"
   ]
  },
  {
   "cell_type": "code",
   "execution_count": 4,
   "id": "58be3d7e",
   "metadata": {},
   "outputs": [],
   "source": [
    "brief_cleaning = lambda x: re.sub(\"[^A-Za-z']+\", ' ', str(x)).lower()"
   ]
  },
  {
   "cell_type": "code",
   "execution_count": 5,
   "id": "9ab2bdec",
   "metadata": {},
   "outputs": [
    {
     "name": "stderr",
     "output_type": "stream",
     "text": [
      "[nltk_data] Downloading package stopwords to C:\\Users\\Joyce\n",
      "[nltk_data]     Huang\\AppData\\Roaming\\nltk_data...\n",
      "[nltk_data]   Package stopwords is already up-to-date!\n"
     ]
    }
   ],
   "source": [
    "df[\"clean\"] = df.text.apply(brief_cleaning)\n",
    "from nltk.corpus import stopwords\n",
    "import nltk \n",
    "nltk.download('stopwords')\n",
    "stop_words = set(stopwords.words('english')) \n",
    "def cleaning(doc):\n",
    "    # very simple tokenizer\n",
    "    txt =doc.strip().split()\n",
    "    txt = [word for word in txt if word not in stop_words]\n",
    "    # remove the short sentence, since the context information is not enough\n",
    "    if len(txt) > 2:\n",
    "        return ' '.join(txt)"
   ]
  },
  {
   "cell_type": "code",
   "execution_count": 6,
   "id": "bffcec5e",
   "metadata": {},
   "outputs": [
    {
     "name": "stderr",
     "output_type": "stream",
     "text": [
      "INFO - 13:30:13: NumExpr defaulting to 8 threads.\n"
     ]
    },
    {
     "data": {
      "text/plain": [
       "(4738, 1)"
      ]
     },
     "execution_count": 6,
     "metadata": {},
     "output_type": "execute_result"
    }
   ],
   "source": [
    "# remove the short line\n",
    "txt = [cleaning(doc) for doc in df.clean.values]\n",
    "df_clean = pd.DataFrame({'clean': txt})\n",
    "df_clean = df_clean.dropna().drop_duplicates()\n",
    "df_clean.shape"
   ]
  },
  {
   "cell_type": "code",
   "execution_count": 7,
   "id": "b6039253",
   "metadata": {},
   "outputs": [
    {
     "name": "stderr",
     "output_type": "stream",
     "text": [
      "C:\\Anaconda\\lib\\site-packages\\gensim\\utils.py:1212: UserWarning: detected Windows; aliasing chunkize to chunkize_serial\n",
      "  warnings.warn(\"detected Windows; aliasing chunkize to chunkize_serial\")\n",
      "INFO - 13:30:13: 'pattern' package not found; tag filters are not available for English\n",
      "INFO - 13:30:13: collecting all words and their counts\n",
      "INFO - 13:30:13: PROGRESS: at sentence #0, processed 0 words and 0 word types\n",
      "INFO - 13:30:13: collected 47878 word types from a corpus of 60074 words (unigram + bigrams) and 4738 sentences\n",
      "INFO - 13:30:13: using 47878 counts as vocab in Phrases<0 vocab, min_count=10, threshold=10.0, max_vocab_size=40000000>\n",
      "INFO - 13:30:13: source_vocab length 47878\n",
      "INFO - 13:30:14: Phraser built with 141 phrasegrams\n"
     ]
    }
   ],
   "source": [
    "from gensim.models.phrases import Phrases, Phraser\n",
    "# take a list of list of words as input\n",
    "sent = [row.split() for row in df_clean['clean']]\n",
    "phrases = Phrases(sent, min_count=10, progress_per=10000)\n",
    "bigram = Phraser(phrases)\n",
    "sentences = bigram[sent]"
   ]
  },
  {
   "cell_type": "code",
   "execution_count": 8,
   "id": "88307118",
   "metadata": {},
   "outputs": [
    {
     "name": "stdout",
     "output_type": "stream",
     "text": [
      "before bigram extracting\n",
      "['increase', 'capital', 'stock', 'registered', 'finnish', 'trade', 'register', 'november']\n",
      "after bigram extracting\n",
      "['increase', 'capital', 'stock', 'registered', 'finnish', 'trade_register', 'november']\n"
     ]
    }
   ],
   "source": [
    "# check the extracted bigram. Take phoebe_buffay as an example\n",
    "for idx in range(len(sentences)):\n",
    "    if \"stock\" in sentences[idx]:\n",
    "        print(\"before bigram extracting\")\n",
    "        print(sent[idx])\n",
    "        print(\"after bigram extracting\")\n",
    "        print(sentences[idx])\n",
    "        break"
   ]
  },
  {
   "cell_type": "code",
   "execution_count": 9,
   "id": "bf8680a9",
   "metadata": {},
   "outputs": [
    {
     "data": {
      "text/plain": [
       "9084"
      ]
     },
     "execution_count": 9,
     "metadata": {},
     "output_type": "execute_result"
    }
   ],
   "source": [
    "word_freq = defaultdict(int)\n",
    "for sent in sentences:\n",
    "    for i in sent:\n",
    "        word_freq[i] += 1\n",
    "len(word_freq)"
   ]
  },
  {
   "cell_type": "code",
   "execution_count": 10,
   "id": "9776078c",
   "metadata": {},
   "outputs": [
    {
     "data": {
      "text/plain": [
       "[\"'s\",\n",
       " 'company',\n",
       " 'eur',\n",
       " 'finnish',\n",
       " 'said',\n",
       " 'eur_mn',\n",
       " 'finland',\n",
       " 'group',\n",
       " 'new',\n",
       " 'business']"
      ]
     },
     "execution_count": 10,
     "metadata": {},
     "output_type": "execute_result"
    }
   ],
   "source": [
    "sorted(word_freq, key=word_freq.get, reverse=True)[:10]"
   ]
  },
  {
   "cell_type": "code",
   "execution_count": 11,
   "id": "33e06f4d",
   "metadata": {},
   "outputs": [],
   "source": [
    "# gensim support multi-core training\n",
    "import multiprocessing\n",
    "cores = multiprocessing.cpu_count()\n",
    "from gensim.models import Word2Vec"
   ]
  },
  {
   "cell_type": "code",
   "execution_count": 12,
   "id": "3854158a",
   "metadata": {},
   "outputs": [
    {
     "name": "stderr",
     "output_type": "stream",
     "text": [
      "WARNING - 13:30:14: consider setting layer size to a multiple of 4 for greater performance\n",
      "C:\\Anaconda\\lib\\site-packages\\gensim\\models\\base_any2vec.py:742: UserWarning: C extension not loaded, training will be slow. Install a C compiler and reinstall gensim for fast training.\n",
      "  warnings.warn(\n"
     ]
    }
   ],
   "source": [
    "w2v_model = Word2Vec(min_count=10,\n",
    "                     window=3,\n",
    "                     size=55,\n",
    "                     sample=6e-5, \n",
    "                     alpha=0.05, \n",
    "                     min_alpha=0.0007, \n",
    "                     negative=20,\n",
    "                     workers=cores-1)"
   ]
  },
  {
   "cell_type": "code",
   "execution_count": 13,
   "id": "4afdde4f",
   "metadata": {},
   "outputs": [
    {
     "name": "stderr",
     "output_type": "stream",
     "text": [
      "INFO - 13:30:14: collecting all words and their counts\n",
      "INFO - 13:30:14: PROGRESS: at sentence #0, processed 0 words, keeping 0 word types\n",
      "INFO - 13:30:14: collected 9084 word types from a corpus of 56134 raw words and 4738 sentences\n",
      "INFO - 13:30:14: Loading a fresh vocabulary\n",
      "INFO - 13:30:14: effective_min_count=10 retains 1263 unique words (13% of original 9084, drops 7821)\n",
      "INFO - 13:30:14: effective_min_count=10 leaves 39399 word corpus (70% of original 56134, drops 16735)\n",
      "INFO - 13:30:14: deleting the raw counts dictionary of 9084 items\n",
      "INFO - 13:30:14: sample=6e-05 downsamples 1263 most-common words\n",
      "INFO - 13:30:14: downsampling leaves estimated 12736 word corpus (32.3% of prior 39399)\n",
      "INFO - 13:30:14: estimated required memory for 1263 words and 55 dimensions: 1187220 bytes\n",
      "INFO - 13:30:14: resetting layer weights\n"
     ]
    }
   ],
   "source": [
    "w2v_model.build_vocab(sentences, progress_per=10000)"
   ]
  },
  {
   "cell_type": "code",
   "execution_count": 14,
   "id": "7a978ab7",
   "metadata": {
    "scrolled": false
   },
   "outputs": [
    {
     "name": "stderr",
     "output_type": "stream",
     "text": [
      "INFO - 13:30:14: training model with 7 workers on 1263 vocabulary and 55 features, using sg=0 hs=0 sample=6e-05 negative=20 window=3\n",
      "INFO - 13:30:14: worker thread finished; awaiting finish of 6 more threads\n",
      "INFO - 13:30:17: EPOCH 1 - PROGRESS: at 11.12% examples, 425 words/s, in_qsize 5, out_qsize 1\n",
      "INFO - 13:30:17: worker thread finished; awaiting finish of 5 more threads\n",
      "INFO - 13:30:19: EPOCH 1 - PROGRESS: at 28.01% examples, 676 words/s, in_qsize 4, out_qsize 1\n",
      "INFO - 13:30:19: worker thread finished; awaiting finish of 4 more threads\n",
      "INFO - 13:30:19: worker thread finished; awaiting finish of 3 more threads\n",
      "INFO - 13:30:20: worker thread finished; awaiting finish of 2 more threads\n",
      "INFO - 13:30:20: worker thread finished; awaiting finish of 1 more threads\n",
      "INFO - 13:30:20: worker thread finished; awaiting finish of 0 more threads\n",
      "INFO - 13:30:20: EPOCH - 1 : training on 56134 raw words (12657 effective words) took 5.6s, 2253 effective words/s\n",
      "INFO - 13:30:20: worker thread finished; awaiting finish of 6 more threads\n",
      "INFO - 13:30:25: EPOCH 2 - PROGRESS: at 11.12% examples, 280 words/s, in_qsize 5, out_qsize 1\n",
      "INFO - 13:30:25: worker thread finished; awaiting finish of 5 more threads\n",
      "INFO - 13:30:27: EPOCH 2 - PROGRESS: at 28.18% examples, 504 words/s, in_qsize 4, out_qsize 1\n",
      "INFO - 13:30:27: worker thread finished; awaiting finish of 4 more threads\n",
      "INFO - 13:30:27: worker thread finished; awaiting finish of 3 more threads\n",
      "INFO - 13:30:27: worker thread finished; awaiting finish of 2 more threads\n",
      "INFO - 13:30:27: worker thread finished; awaiting finish of 1 more threads\n",
      "INFO - 13:30:27: worker thread finished; awaiting finish of 0 more threads\n",
      "INFO - 13:30:27: EPOCH - 2 : training on 56134 raw words (12609 effective words) took 7.4s, 1702 effective words/s\n",
      "INFO - 13:30:28: worker thread finished; awaiting finish of 6 more threads\n",
      "INFO - 13:30:32: EPOCH 3 - PROGRESS: at 11.12% examples, 289 words/s, in_qsize 5, out_qsize 1\n",
      "INFO - 13:30:32: worker thread finished; awaiting finish of 5 more threads\n",
      "INFO - 13:30:34: EPOCH 3 - PROGRESS: at 28.01% examples, 504 words/s, in_qsize 4, out_qsize 1\n",
      "INFO - 13:30:34: worker thread finished; awaiting finish of 4 more threads\n",
      "INFO - 13:30:34: worker thread finished; awaiting finish of 3 more threads\n",
      "INFO - 13:30:35: worker thread finished; awaiting finish of 2 more threads\n",
      "INFO - 13:30:35: worker thread finished; awaiting finish of 1 more threads\n",
      "INFO - 13:30:35: worker thread finished; awaiting finish of 0 more threads\n",
      "INFO - 13:30:35: EPOCH - 3 : training on 56134 raw words (12812 effective words) took 7.6s, 1689 effective words/s\n",
      "INFO - 13:30:35: worker thread finished; awaiting finish of 6 more threads\n",
      "INFO - 13:30:40: EPOCH 4 - PROGRESS: at 11.12% examples, 277 words/s, in_qsize 5, out_qsize 1\n",
      "INFO - 13:30:40: worker thread finished; awaiting finish of 5 more threads\n",
      "INFO - 13:30:42: EPOCH 4 - PROGRESS: at 28.01% examples, 510 words/s, in_qsize 4, out_qsize 1\n",
      "INFO - 13:30:42: worker thread finished; awaiting finish of 4 more threads\n",
      "INFO - 13:30:42: worker thread finished; awaiting finish of 3 more threads\n",
      "INFO - 13:30:42: worker thread finished; awaiting finish of 2 more threads\n",
      "INFO - 13:30:42: worker thread finished; awaiting finish of 1 more threads\n",
      "INFO - 13:30:42: worker thread finished; awaiting finish of 0 more threads\n",
      "INFO - 13:30:42: EPOCH - 4 : training on 56134 raw words (12763 effective words) took 7.4s, 1719 effective words/s\n",
      "INFO - 13:30:43: worker thread finished; awaiting finish of 6 more threads\n",
      "INFO - 13:30:47: EPOCH 5 - PROGRESS: at 11.12% examples, 331 words/s, in_qsize 5, out_qsize 1\n",
      "INFO - 13:30:47: worker thread finished; awaiting finish of 5 more threads\n",
      "INFO - 13:30:48: EPOCH 5 - PROGRESS: at 28.01% examples, 589 words/s, in_qsize 4, out_qsize 1\n",
      "INFO - 13:30:48: worker thread finished; awaiting finish of 4 more threads\n",
      "INFO - 13:30:48: worker thread finished; awaiting finish of 3 more threads\n",
      "INFO - 13:30:49: worker thread finished; awaiting finish of 2 more threads\n",
      "INFO - 13:30:49: worker thread finished; awaiting finish of 1 more threads\n",
      "INFO - 13:30:49: worker thread finished; awaiting finish of 0 more threads\n",
      "INFO - 13:30:49: EPOCH - 5 : training on 56134 raw words (12785 effective words) took 6.3s, 2038 effective words/s\n",
      "INFO - 13:30:49: worker thread finished; awaiting finish of 6 more threads\n",
      "INFO - 13:30:53: EPOCH 6 - PROGRESS: at 11.12% examples, 334 words/s, in_qsize 5, out_qsize 1\n",
      "INFO - 13:30:53: worker thread finished; awaiting finish of 5 more threads\n",
      "INFO - 13:30:55: EPOCH 6 - PROGRESS: at 28.01% examples, 584 words/s, in_qsize 4, out_qsize 1\n",
      "INFO - 13:30:55: worker thread finished; awaiting finish of 4 more threads\n",
      "INFO - 13:30:55: worker thread finished; awaiting finish of 3 more threads\n",
      "INFO - 13:30:55: worker thread finished; awaiting finish of 2 more threads\n",
      "INFO - 13:30:55: worker thread finished; awaiting finish of 1 more threads\n",
      "INFO - 13:30:55: worker thread finished; awaiting finish of 0 more threads\n",
      "INFO - 13:30:55: EPOCH - 6 : training on 56134 raw words (12555 effective words) took 6.1s, 2046 effective words/s\n",
      "INFO - 13:30:55: worker thread finished; awaiting finish of 6 more threads\n",
      "INFO - 13:30:59: EPOCH 7 - PROGRESS: at 11.12% examples, 340 words/s, in_qsize 5, out_qsize 1\n",
      "INFO - 13:30:59: worker thread finished; awaiting finish of 5 more threads\n",
      "INFO - 13:31:01: EPOCH 7 - PROGRESS: at 28.01% examples, 605 words/s, in_qsize 4, out_qsize 1\n",
      "INFO - 13:31:01: worker thread finished; awaiting finish of 4 more threads\n",
      "INFO - 13:31:01: worker thread finished; awaiting finish of 3 more threads\n",
      "INFO - 13:31:01: worker thread finished; awaiting finish of 2 more threads\n",
      "INFO - 13:31:01: worker thread finished; awaiting finish of 1 more threads\n",
      "INFO - 13:31:01: worker thread finished; awaiting finish of 0 more threads\n",
      "INFO - 13:31:01: EPOCH - 7 : training on 56134 raw words (12797 effective words) took 6.2s, 2054 effective words/s\n",
      "INFO - 13:31:01: worker thread finished; awaiting finish of 6 more threads\n",
      "INFO - 13:31:05: EPOCH 8 - PROGRESS: at 11.12% examples, 329 words/s, in_qsize 5, out_qsize 1\n",
      "INFO - 13:31:05: worker thread finished; awaiting finish of 5 more threads\n",
      "INFO - 13:31:07: EPOCH 8 - PROGRESS: at 28.01% examples, 581 words/s, in_qsize 4, out_qsize 1\n",
      "INFO - 13:31:07: worker thread finished; awaiting finish of 4 more threads\n",
      "INFO - 13:31:07: worker thread finished; awaiting finish of 3 more threads\n",
      "INFO - 13:31:07: worker thread finished; awaiting finish of 2 more threads\n",
      "INFO - 13:31:07: worker thread finished; awaiting finish of 1 more threads\n",
      "INFO - 13:31:07: worker thread finished; awaiting finish of 0 more threads\n",
      "INFO - 13:31:07: EPOCH - 8 : training on 56134 raw words (12867 effective words) took 6.4s, 2000 effective words/s\n",
      "INFO - 13:31:08: worker thread finished; awaiting finish of 6 more threads\n",
      "INFO - 13:31:12: EPOCH 9 - PROGRESS: at 11.12% examples, 325 words/s, in_qsize 5, out_qsize 1\n",
      "INFO - 13:31:12: worker thread finished; awaiting finish of 5 more threads\n",
      "INFO - 13:31:14: EPOCH 9 - PROGRESS: at 28.18% examples, 591 words/s, in_qsize 4, out_qsize 1\n",
      "INFO - 13:31:14: worker thread finished; awaiting finish of 4 more threads\n",
      "INFO - 13:31:14: worker thread finished; awaiting finish of 3 more threads\n",
      "INFO - 13:31:14: worker thread finished; awaiting finish of 2 more threads\n",
      "INFO - 13:31:14: worker thread finished; awaiting finish of 1 more threads\n",
      "INFO - 13:31:14: worker thread finished; awaiting finish of 0 more threads\n",
      "INFO - 13:31:14: EPOCH - 9 : training on 56134 raw words (12779 effective words) took 6.4s, 2004 effective words/s\n",
      "INFO - 13:31:14: worker thread finished; awaiting finish of 6 more threads\n",
      "INFO - 13:31:19: EPOCH 10 - PROGRESS: at 11.12% examples, 304 words/s, in_qsize 5, out_qsize 1\n",
      "INFO - 13:31:19: worker thread finished; awaiting finish of 5 more threads\n",
      "INFO - 13:31:20: EPOCH 10 - PROGRESS: at 28.01% examples, 542 words/s, in_qsize 4, out_qsize 1\n",
      "INFO - 13:31:20: worker thread finished; awaiting finish of 4 more threads\n",
      "INFO - 13:31:21: worker thread finished; awaiting finish of 3 more threads\n",
      "INFO - 13:31:21: worker thread finished; awaiting finish of 2 more threads\n",
      "INFO - 13:31:21: worker thread finished; awaiting finish of 1 more threads\n",
      "INFO - 13:31:21: worker thread finished; awaiting finish of 0 more threads\n",
      "INFO - 13:31:21: EPOCH - 10 : training on 56134 raw words (12780 effective words) took 7.2s, 1772 effective words/s\n",
      "INFO - 13:31:21: worker thread finished; awaiting finish of 6 more threads\n",
      "INFO - 13:31:26: EPOCH 11 - PROGRESS: at 11.12% examples, 293 words/s, in_qsize 5, out_qsize 1\n",
      "INFO - 13:31:26: worker thread finished; awaiting finish of 5 more threads\n",
      "INFO - 13:31:28: EPOCH 11 - PROGRESS: at 28.01% examples, 522 words/s, in_qsize 4, out_qsize 1\n",
      "INFO - 13:31:28: worker thread finished; awaiting finish of 4 more threads\n",
      "INFO - 13:31:28: worker thread finished; awaiting finish of 3 more threads\n",
      "INFO - 13:31:28: worker thread finished; awaiting finish of 2 more threads\n",
      "INFO - 13:31:28: worker thread finished; awaiting finish of 1 more threads\n",
      "INFO - 13:31:28: worker thread finished; awaiting finish of 0 more threads\n",
      "INFO - 13:31:28: EPOCH - 11 : training on 56134 raw words (12889 effective words) took 7.3s, 1771 effective words/s\n",
      "INFO - 13:31:29: worker thread finished; awaiting finish of 6 more threads\n",
      "INFO - 13:31:33: EPOCH 12 - PROGRESS: at 11.12% examples, 294 words/s, in_qsize 5, out_qsize 1\n",
      "INFO - 13:31:33: worker thread finished; awaiting finish of 5 more threads\n",
      "INFO - 13:31:35: EPOCH 12 - PROGRESS: at 29.49% examples, 551 words/s, in_qsize 4, out_qsize 1\n",
      "INFO - 13:31:35: worker thread finished; awaiting finish of 4 more threads\n",
      "INFO - 13:31:35: worker thread finished; awaiting finish of 3 more threads\n",
      "INFO - 13:31:35: worker thread finished; awaiting finish of 2 more threads\n",
      "INFO - 13:31:35: worker thread finished; awaiting finish of 1 more threads\n",
      "INFO - 13:31:35: worker thread finished; awaiting finish of 0 more threads\n",
      "INFO - 13:31:35: EPOCH - 12 : training on 56134 raw words (12793 effective words) took 6.9s, 1866 effective words/s\n",
      "INFO - 13:31:35: worker thread finished; awaiting finish of 6 more threads\n",
      "INFO - 13:31:39: EPOCH 13 - PROGRESS: at 11.12% examples, 347 words/s, in_qsize 5, out_qsize 1\n",
      "INFO - 13:31:39: worker thread finished; awaiting finish of 5 more threads\n",
      "INFO - 13:31:41: EPOCH 13 - PROGRESS: at 28.18% examples, 592 words/s, in_qsize 4, out_qsize 1\n",
      "INFO - 13:31:41: worker thread finished; awaiting finish of 4 more threads\n",
      "INFO - 13:31:41: worker thread finished; awaiting finish of 3 more threads\n",
      "INFO - 13:31:42: worker thread finished; awaiting finish of 2 more threads\n",
      "INFO - 13:31:42: worker thread finished; awaiting finish of 1 more threads\n",
      "INFO - 13:31:42: worker thread finished; awaiting finish of 0 more threads\n",
      "INFO - 13:31:42: EPOCH - 13 : training on 56134 raw words (12760 effective words) took 6.4s, 1994 effective words/s\n",
      "INFO - 13:31:42: worker thread finished; awaiting finish of 6 more threads\n",
      "INFO - 13:31:47: EPOCH 14 - PROGRESS: at 11.12% examples, 284 words/s, in_qsize 5, out_qsize 1\n",
      "INFO - 13:31:47: worker thread finished; awaiting finish of 5 more threads\n",
      "INFO - 13:31:48: EPOCH 14 - PROGRESS: at 28.01% examples, 533 words/s, in_qsize 4, out_qsize 1\n",
      "INFO - 13:31:48: worker thread finished; awaiting finish of 4 more threads\n",
      "INFO - 13:31:49: worker thread finished; awaiting finish of 3 more threads\n",
      "INFO - 13:31:49: worker thread finished; awaiting finish of 2 more threads\n",
      "INFO - 13:31:49: worker thread finished; awaiting finish of 1 more threads\n",
      "INFO - 13:31:49: worker thread finished; awaiting finish of 0 more threads\n",
      "INFO - 13:31:49: EPOCH - 14 : training on 56134 raw words (12801 effective words) took 7.0s, 1824 effective words/s\n",
      "INFO - 13:31:49: worker thread finished; awaiting finish of 6 more threads\n",
      "INFO - 13:31:53: EPOCH 15 - PROGRESS: at 11.12% examples, 290 words/s, in_qsize 5, out_qsize 1\n",
      "INFO - 13:31:54: worker thread finished; awaiting finish of 5 more threads\n",
      "INFO - 13:31:56: EPOCH 15 - PROGRESS: at 28.01% examples, 526 words/s, in_qsize 4, out_qsize 1\n",
      "INFO - 13:31:56: worker thread finished; awaiting finish of 4 more threads\n",
      "INFO - 13:31:56: worker thread finished; awaiting finish of 3 more threads\n",
      "INFO - 13:31:56: worker thread finished; awaiting finish of 2 more threads\n",
      "INFO - 13:31:56: worker thread finished; awaiting finish of 1 more threads\n",
      "INFO - 13:31:56: worker thread finished; awaiting finish of 0 more threads\n",
      "INFO - 13:31:56: EPOCH - 15 : training on 56134 raw words (12871 effective words) took 7.1s, 1803 effective words/s\n",
      "INFO - 13:31:56: worker thread finished; awaiting finish of 6 more threads\n",
      "INFO - 13:32:01: EPOCH 16 - PROGRESS: at 11.12% examples, 268 words/s, in_qsize 5, out_qsize 1\n",
      "INFO - 13:32:01: worker thread finished; awaiting finish of 5 more threads\n",
      "INFO - 13:32:03: EPOCH 16 - PROGRESS: at 28.18% examples, 489 words/s, in_qsize 4, out_qsize 1\n",
      "INFO - 13:32:03: worker thread finished; awaiting finish of 4 more threads\n",
      "INFO - 13:32:03: worker thread finished; awaiting finish of 3 more threads\n",
      "INFO - 13:32:03: worker thread finished; awaiting finish of 2 more threads\n",
      "INFO - 13:32:03: worker thread finished; awaiting finish of 1 more threads\n",
      "INFO - 13:32:03: worker thread finished; awaiting finish of 0 more threads\n",
      "INFO - 13:32:03: EPOCH - 16 : training on 56134 raw words (12721 effective words) took 7.6s, 1671 effective words/s\n",
      "INFO - 13:32:04: worker thread finished; awaiting finish of 6 more threads\n",
      "INFO - 13:32:08: EPOCH 17 - PROGRESS: at 11.12% examples, 313 words/s, in_qsize 5, out_qsize 1\n",
      "INFO - 13:32:08: worker thread finished; awaiting finish of 5 more threads\n",
      "INFO - 13:32:10: EPOCH 17 - PROGRESS: at 28.01% examples, 574 words/s, in_qsize 4, out_qsize 1\n",
      "INFO - 13:32:10: worker thread finished; awaiting finish of 4 more threads\n",
      "INFO - 13:32:10: worker thread finished; awaiting finish of 3 more threads\n",
      "INFO - 13:32:10: worker thread finished; awaiting finish of 2 more threads\n",
      "INFO - 13:32:10: worker thread finished; awaiting finish of 1 more threads\n",
      "INFO - 13:32:10: worker thread finished; awaiting finish of 0 more threads\n",
      "INFO - 13:32:10: EPOCH - 17 : training on 56134 raw words (12748 effective words) took 6.5s, 1955 effective words/s\n",
      "INFO - 13:32:10: worker thread finished; awaiting finish of 6 more threads\n",
      "INFO - 13:32:14: EPOCH 18 - PROGRESS: at 11.12% examples, 341 words/s, in_qsize 5, out_qsize 1\n",
      "INFO - 13:32:14: worker thread finished; awaiting finish of 5 more threads\n",
      "INFO - 13:32:16: EPOCH 18 - PROGRESS: at 28.18% examples, 601 words/s, in_qsize 4, out_qsize 1\n",
      "INFO - 13:32:16: worker thread finished; awaiting finish of 4 more threads\n",
      "INFO - 13:32:16: worker thread finished; awaiting finish of 3 more threads\n",
      "INFO - 13:32:16: worker thread finished; awaiting finish of 2 more threads\n",
      "INFO - 13:32:16: worker thread finished; awaiting finish of 1 more threads\n",
      "INFO - 13:32:16: worker thread finished; awaiting finish of 0 more threads\n",
      "INFO - 13:32:16: EPOCH - 18 : training on 56134 raw words (12796 effective words) took 6.2s, 2077 effective words/s\n",
      "INFO - 13:32:16: worker thread finished; awaiting finish of 6 more threads\n",
      "INFO - 13:32:20: EPOCH 19 - PROGRESS: at 11.12% examples, 350 words/s, in_qsize 5, out_qsize 1\n",
      "INFO - 13:32:20: worker thread finished; awaiting finish of 5 more threads\n",
      "INFO - 13:32:23: EPOCH 19 - PROGRESS: at 28.18% examples, 552 words/s, in_qsize 4, out_qsize 1\n",
      "INFO - 13:32:23: worker thread finished; awaiting finish of 4 more threads\n",
      "INFO - 13:32:23: worker thread finished; awaiting finish of 3 more threads\n",
      "INFO - 13:32:23: worker thread finished; awaiting finish of 2 more threads\n",
      "INFO - 13:32:23: worker thread finished; awaiting finish of 1 more threads\n",
      "INFO - 13:32:23: worker thread finished; awaiting finish of 0 more threads\n",
      "INFO - 13:32:23: EPOCH - 19 : training on 56134 raw words (12761 effective words) took 6.7s, 1904 effective words/s\n",
      "INFO - 13:32:23: worker thread finished; awaiting finish of 6 more threads\n",
      "INFO - 13:32:28: EPOCH 20 - PROGRESS: at 11.12% examples, 285 words/s, in_qsize 5, out_qsize 1\n",
      "INFO - 13:32:28: worker thread finished; awaiting finish of 5 more threads\n",
      "INFO - 13:32:30: EPOCH 20 - PROGRESS: at 28.18% examples, 515 words/s, in_qsize 4, out_qsize 1\n",
      "INFO - 13:32:30: worker thread finished; awaiting finish of 4 more threads\n",
      "INFO - 13:32:30: worker thread finished; awaiting finish of 3 more threads\n",
      "INFO - 13:32:30: worker thread finished; awaiting finish of 2 more threads\n",
      "INFO - 13:32:30: worker thread finished; awaiting finish of 1 more threads\n",
      "INFO - 13:32:30: worker thread finished; awaiting finish of 0 more threads\n",
      "INFO - 13:32:30: EPOCH - 20 : training on 56134 raw words (12760 effective words) took 7.1s, 1785 effective words/s\n",
      "INFO - 13:32:30: worker thread finished; awaiting finish of 6 more threads\n",
      "INFO - 13:32:35: EPOCH 21 - PROGRESS: at 11.12% examples, 286 words/s, in_qsize 5, out_qsize 1\n",
      "INFO - 13:32:35: worker thread finished; awaiting finish of 5 more threads\n",
      "INFO - 13:32:37: EPOCH 21 - PROGRESS: at 28.18% examples, 537 words/s, in_qsize 4, out_qsize 1\n",
      "INFO - 13:32:37: worker thread finished; awaiting finish of 4 more threads\n",
      "INFO - 13:32:37: worker thread finished; awaiting finish of 3 more threads\n",
      "INFO - 13:32:37: worker thread finished; awaiting finish of 2 more threads\n",
      "INFO - 13:32:37: worker thread finished; awaiting finish of 1 more threads\n",
      "INFO - 13:32:37: worker thread finished; awaiting finish of 0 more threads\n",
      "INFO - 13:32:37: EPOCH - 21 : training on 56134 raw words (12843 effective words) took 6.9s, 1856 effective words/s\n",
      "INFO - 13:32:37: worker thread finished; awaiting finish of 6 more threads\n",
      "INFO - 13:32:41: EPOCH 22 - PROGRESS: at 11.12% examples, 357 words/s, in_qsize 5, out_qsize 1\n",
      "INFO - 13:32:41: worker thread finished; awaiting finish of 5 more threads\n",
      "INFO - 13:32:43: EPOCH 22 - PROGRESS: at 28.18% examples, 621 words/s, in_qsize 4, out_qsize 1\n",
      "INFO - 13:32:43: worker thread finished; awaiting finish of 4 more threads\n",
      "INFO - 13:32:43: worker thread finished; awaiting finish of 3 more threads\n",
      "INFO - 13:32:43: worker thread finished; awaiting finish of 2 more threads\n",
      "INFO - 13:32:43: worker thread finished; awaiting finish of 1 more threads\n",
      "INFO - 13:32:43: worker thread finished; awaiting finish of 0 more threads\n",
      "INFO - 13:32:43: EPOCH - 22 : training on 56134 raw words (12577 effective words) took 6.0s, 2101 effective words/s\n",
      "INFO - 13:32:43: worker thread finished; awaiting finish of 6 more threads\n",
      "INFO - 13:32:48: EPOCH 23 - PROGRESS: at 11.12% examples, 282 words/s, in_qsize 5, out_qsize 1\n",
      "INFO - 13:32:48: worker thread finished; awaiting finish of 5 more threads\n",
      "INFO - 13:32:50: EPOCH 23 - PROGRESS: at 28.01% examples, 521 words/s, in_qsize 4, out_qsize 1\n",
      "INFO - 13:32:50: worker thread finished; awaiting finish of 4 more threads\n",
      "INFO - 13:32:50: worker thread finished; awaiting finish of 3 more threads\n",
      "INFO - 13:32:50: worker thread finished; awaiting finish of 2 more threads\n",
      "INFO - 13:32:50: worker thread finished; awaiting finish of 1 more threads\n",
      "INFO - 13:32:50: worker thread finished; awaiting finish of 0 more threads\n",
      "INFO - 13:32:50: EPOCH - 23 : training on 56134 raw words (12820 effective words) took 7.3s, 1757 effective words/s\n",
      "INFO - 13:32:51: worker thread finished; awaiting finish of 6 more threads\n",
      "INFO - 13:32:55: EPOCH 24 - PROGRESS: at 11.12% examples, 292 words/s, in_qsize 5, out_qsize 1\n",
      "INFO - 13:32:55: worker thread finished; awaiting finish of 5 more threads\n",
      "INFO - 13:32:57: EPOCH 24 - PROGRESS: at 29.49% examples, 565 words/s, in_qsize 4, out_qsize 1\n",
      "INFO - 13:32:57: worker thread finished; awaiting finish of 4 more threads\n",
      "INFO - 13:32:57: worker thread finished; awaiting finish of 3 more threads\n",
      "INFO - 13:32:57: worker thread finished; awaiting finish of 2 more threads\n",
      "INFO - 13:32:57: worker thread finished; awaiting finish of 1 more threads\n",
      "INFO - 13:32:57: worker thread finished; awaiting finish of 0 more threads\n",
      "INFO - 13:32:57: EPOCH - 24 : training on 56134 raw words (12938 effective words) took 6.7s, 1920 effective words/s\n",
      "INFO - 13:32:57: worker thread finished; awaiting finish of 6 more threads\n",
      "INFO - 13:33:02: EPOCH 25 - PROGRESS: at 11.12% examples, 297 words/s, in_qsize 5, out_qsize 1\n",
      "INFO - 13:33:02: worker thread finished; awaiting finish of 5 more threads\n",
      "INFO - 13:33:04: EPOCH 25 - PROGRESS: at 29.49% examples, 535 words/s, in_qsize 4, out_qsize 1\n",
      "INFO - 13:33:04: worker thread finished; awaiting finish of 4 more threads\n",
      "INFO - 13:33:04: worker thread finished; awaiting finish of 3 more threads\n",
      "INFO - 13:33:04: worker thread finished; awaiting finish of 2 more threads\n",
      "INFO - 13:33:04: worker thread finished; awaiting finish of 1 more threads\n",
      "INFO - 13:33:04: worker thread finished; awaiting finish of 0 more threads\n",
      "INFO - 13:33:04: EPOCH - 25 : training on 56134 raw words (12809 effective words) took 7.2s, 1788 effective words/s\n",
      "INFO - 13:33:04: worker thread finished; awaiting finish of 6 more threads\n",
      "INFO - 13:33:09: EPOCH 26 - PROGRESS: at 11.12% examples, 312 words/s, in_qsize 5, out_qsize 1\n",
      "INFO - 13:33:09: worker thread finished; awaiting finish of 5 more threads\n",
      "INFO - 13:33:11: EPOCH 26 - PROGRESS: at 28.01% examples, 541 words/s, in_qsize 4, out_qsize 1\n",
      "INFO - 13:33:11: worker thread finished; awaiting finish of 4 more threads\n",
      "INFO - 13:33:11: worker thread finished; awaiting finish of 3 more threads\n",
      "INFO - 13:33:11: worker thread finished; awaiting finish of 2 more threads\n",
      "INFO - 13:33:11: worker thread finished; awaiting finish of 1 more threads\n",
      "INFO - 13:33:11: worker thread finished; awaiting finish of 0 more threads\n",
      "INFO - 13:33:11: EPOCH - 26 : training on 56134 raw words (12752 effective words) took 7.0s, 1833 effective words/s\n",
      "INFO - 13:33:11: worker thread finished; awaiting finish of 6 more threads\n",
      "INFO - 13:33:16: EPOCH 27 - PROGRESS: at 11.12% examples, 309 words/s, in_qsize 5, out_qsize 1\n",
      "INFO - 13:33:16: worker thread finished; awaiting finish of 5 more threads\n",
      "INFO - 13:33:18: EPOCH 27 - PROGRESS: at 28.01% examples, 550 words/s, in_qsize 4, out_qsize 1\n",
      "INFO - 13:33:18: worker thread finished; awaiting finish of 4 more threads\n",
      "INFO - 13:33:18: worker thread finished; awaiting finish of 3 more threads\n",
      "INFO - 13:33:18: worker thread finished; awaiting finish of 2 more threads\n",
      "INFO - 13:33:18: worker thread finished; awaiting finish of 1 more threads\n",
      "INFO - 13:33:18: worker thread finished; awaiting finish of 0 more threads\n",
      "INFO - 13:33:18: EPOCH - 27 : training on 56134 raw words (12786 effective words) took 6.6s, 1927 effective words/s\n",
      "INFO - 13:33:18: worker thread finished; awaiting finish of 6 more threads\n",
      "INFO - 13:33:22: EPOCH 28 - PROGRESS: at 11.12% examples, 319 words/s, in_qsize 5, out_qsize 1\n",
      "INFO - 13:33:22: worker thread finished; awaiting finish of 5 more threads\n",
      "INFO - 13:33:24: EPOCH 28 - PROGRESS: at 28.18% examples, 571 words/s, in_qsize 4, out_qsize 1\n",
      "INFO - 13:33:24: worker thread finished; awaiting finish of 4 more threads\n",
      "INFO - 13:33:24: worker thread finished; awaiting finish of 3 more threads\n",
      "INFO - 13:33:24: worker thread finished; awaiting finish of 2 more threads\n",
      "INFO - 13:33:24: worker thread finished; awaiting finish of 1 more threads\n",
      "INFO - 13:33:24: worker thread finished; awaiting finish of 0 more threads\n",
      "INFO - 13:33:24: EPOCH - 28 : training on 56134 raw words (12744 effective words) took 6.5s, 1954 effective words/s\n",
      "INFO - 13:33:25: worker thread finished; awaiting finish of 6 more threads\n",
      "INFO - 13:33:29: EPOCH 29 - PROGRESS: at 11.12% examples, 300 words/s, in_qsize 5, out_qsize 1\n",
      "INFO - 13:33:29: worker thread finished; awaiting finish of 5 more threads\n",
      "INFO - 13:33:31: EPOCH 29 - PROGRESS: at 28.18% examples, 543 words/s, in_qsize 4, out_qsize 1\n",
      "INFO - 13:33:31: worker thread finished; awaiting finish of 4 more threads\n",
      "INFO - 13:33:31: worker thread finished; awaiting finish of 3 more threads\n",
      "INFO - 13:33:31: worker thread finished; awaiting finish of 2 more threads\n",
      "INFO - 13:33:31: worker thread finished; awaiting finish of 1 more threads\n",
      "INFO - 13:33:31: worker thread finished; awaiting finish of 0 more threads\n",
      "INFO - 13:33:31: EPOCH - 29 : training on 56134 raw words (12726 effective words) took 6.9s, 1833 effective words/s\n",
      "INFO - 13:33:32: worker thread finished; awaiting finish of 6 more threads\n",
      "INFO - 13:33:37: EPOCH 30 - PROGRESS: at 11.12% examples, 269 words/s, in_qsize 5, out_qsize 1\n",
      "INFO - 13:33:37: worker thread finished; awaiting finish of 5 more threads\n",
      "INFO - 13:33:38: EPOCH 30 - PROGRESS: at 28.01% examples, 539 words/s, in_qsize 4, out_qsize 1\n",
      "INFO - 13:33:38: worker thread finished; awaiting finish of 4 more threads\n",
      "INFO - 13:33:38: worker thread finished; awaiting finish of 3 more threads\n",
      "INFO - 13:33:38: worker thread finished; awaiting finish of 2 more threads\n",
      "INFO - 13:33:38: worker thread finished; awaiting finish of 1 more threads\n",
      "INFO - 13:33:38: worker thread finished; awaiting finish of 0 more threads\n",
      "INFO - 13:33:38: EPOCH - 30 : training on 56134 raw words (12777 effective words) took 7.0s, 1820 effective words/s\n",
      "INFO - 13:33:39: worker thread finished; awaiting finish of 6 more threads\n",
      "INFO - 13:33:43: EPOCH 31 - PROGRESS: at 11.12% examples, 325 words/s, in_qsize 5, out_qsize 1\n",
      "INFO - 13:33:43: worker thread finished; awaiting finish of 5 more threads\n",
      "INFO - 13:33:45: EPOCH 31 - PROGRESS: at 28.01% examples, 572 words/s, in_qsize 4, out_qsize 1\n",
      "INFO - 13:33:45: worker thread finished; awaiting finish of 4 more threads\n",
      "INFO - 13:33:45: worker thread finished; awaiting finish of 3 more threads\n",
      "INFO - 13:33:45: worker thread finished; awaiting finish of 2 more threads\n",
      "INFO - 13:33:45: worker thread finished; awaiting finish of 1 more threads\n",
      "INFO - 13:33:45: worker thread finished; awaiting finish of 0 more threads\n",
      "INFO - 13:33:45: EPOCH - 31 : training on 56134 raw words (12819 effective words) took 6.6s, 1945 effective words/s\n",
      "INFO - 13:33:45: worker thread finished; awaiting finish of 6 more threads\n",
      "INFO - 13:33:49: EPOCH 32 - PROGRESS: at 11.12% examples, 327 words/s, in_qsize 5, out_qsize 1\n",
      "INFO - 13:33:49: worker thread finished; awaiting finish of 5 more threads\n",
      "INFO - 13:33:51: EPOCH 32 - PROGRESS: at 28.01% examples, 588 words/s, in_qsize 4, out_qsize 1\n",
      "INFO - 13:33:51: worker thread finished; awaiting finish of 4 more threads\n",
      "INFO - 13:33:51: worker thread finished; awaiting finish of 3 more threads\n",
      "INFO - 13:33:51: worker thread finished; awaiting finish of 2 more threads\n",
      "INFO - 13:33:51: worker thread finished; awaiting finish of 1 more threads\n",
      "INFO - 13:33:51: worker thread finished; awaiting finish of 0 more threads\n",
      "INFO - 13:33:51: EPOCH - 32 : training on 56134 raw words (12748 effective words) took 6.4s, 1980 effective words/s\n",
      "INFO - 13:33:52: worker thread finished; awaiting finish of 6 more threads\n",
      "INFO - 13:33:56: EPOCH 33 - PROGRESS: at 11.12% examples, 327 words/s, in_qsize 5, out_qsize 1\n",
      "INFO - 13:33:56: worker thread finished; awaiting finish of 5 more threads\n",
      "INFO - 13:33:57: EPOCH 33 - PROGRESS: at 28.18% examples, 587 words/s, in_qsize 4, out_qsize 1\n",
      "INFO - 13:33:57: worker thread finished; awaiting finish of 4 more threads\n",
      "INFO - 13:33:58: worker thread finished; awaiting finish of 3 more threads\n",
      "INFO - 13:33:58: worker thread finished; awaiting finish of 2 more threads\n",
      "INFO - 13:33:58: worker thread finished; awaiting finish of 1 more threads\n",
      "INFO - 13:33:58: worker thread finished; awaiting finish of 0 more threads\n",
      "INFO - 13:33:58: EPOCH - 33 : training on 56134 raw words (12672 effective words) took 6.4s, 1992 effective words/s\n",
      "INFO - 13:33:58: worker thread finished; awaiting finish of 6 more threads\n",
      "INFO - 13:34:02: EPOCH 34 - PROGRESS: at 11.12% examples, 317 words/s, in_qsize 5, out_qsize 1\n",
      "INFO - 13:34:02: worker thread finished; awaiting finish of 5 more threads\n",
      "INFO - 13:34:04: EPOCH 34 - PROGRESS: at 28.01% examples, 575 words/s, in_qsize 4, out_qsize 1\n",
      "INFO - 13:34:04: worker thread finished; awaiting finish of 4 more threads\n",
      "INFO - 13:34:04: worker thread finished; awaiting finish of 3 more threads\n",
      "INFO - 13:34:04: worker thread finished; awaiting finish of 2 more threads\n",
      "INFO - 13:34:04: worker thread finished; awaiting finish of 1 more threads\n",
      "INFO - 13:34:04: worker thread finished; awaiting finish of 0 more threads\n",
      "INFO - 13:34:04: EPOCH - 34 : training on 56134 raw words (12621 effective words) took 6.5s, 1938 effective words/s\n",
      "INFO - 13:34:05: worker thread finished; awaiting finish of 6 more threads\n",
      "INFO - 13:34:09: EPOCH 35 - PROGRESS: at 11.12% examples, 322 words/s, in_qsize 5, out_qsize 1\n",
      "INFO - 13:34:09: worker thread finished; awaiting finish of 5 more threads\n",
      "INFO - 13:34:11: EPOCH 35 - PROGRESS: at 28.01% examples, 573 words/s, in_qsize 4, out_qsize 1\n",
      "INFO - 13:34:11: worker thread finished; awaiting finish of 4 more threads\n",
      "INFO - 13:34:11: worker thread finished; awaiting finish of 3 more threads\n",
      "INFO - 13:34:11: worker thread finished; awaiting finish of 2 more threads\n",
      "INFO - 13:34:11: worker thread finished; awaiting finish of 1 more threads\n",
      "INFO - 13:34:11: worker thread finished; awaiting finish of 0 more threads\n",
      "INFO - 13:34:11: EPOCH - 35 : training on 56134 raw words (12669 effective words) took 6.5s, 1958 effective words/s\n",
      "INFO - 13:34:11: worker thread finished; awaiting finish of 6 more threads\n",
      "INFO - 13:34:15: EPOCH 36 - PROGRESS: at 11.12% examples, 326 words/s, in_qsize 5, out_qsize 1\n",
      "INFO - 13:34:15: worker thread finished; awaiting finish of 5 more threads\n",
      "INFO - 13:34:17: EPOCH 36 - PROGRESS: at 28.01% examples, 553 words/s, in_qsize 4, out_qsize 1\n",
      "INFO - 13:34:17: worker thread finished; awaiting finish of 4 more threads\n",
      "INFO - 13:34:17: worker thread finished; awaiting finish of 3 more threads\n",
      "INFO - 13:34:17: worker thread finished; awaiting finish of 2 more threads\n",
      "INFO - 13:34:17: worker thread finished; awaiting finish of 1 more threads\n",
      "INFO - 13:34:17: worker thread finished; awaiting finish of 0 more threads\n",
      "INFO - 13:34:17: EPOCH - 36 : training on 56134 raw words (12651 effective words) took 6.5s, 1934 effective words/s\n",
      "INFO - 13:34:18: worker thread finished; awaiting finish of 6 more threads\n",
      "INFO - 13:34:22: EPOCH 37 - PROGRESS: at 11.12% examples, 324 words/s, in_qsize 5, out_qsize 1\n",
      "INFO - 13:34:22: worker thread finished; awaiting finish of 5 more threads\n",
      "INFO - 13:34:23: EPOCH 37 - PROGRESS: at 28.01% examples, 579 words/s, in_qsize 4, out_qsize 1\n",
      "INFO - 13:34:24: worker thread finished; awaiting finish of 4 more threads\n",
      "INFO - 13:34:24: worker thread finished; awaiting finish of 3 more threads\n",
      "INFO - 13:34:24: worker thread finished; awaiting finish of 2 more threads\n",
      "INFO - 13:34:24: worker thread finished; awaiting finish of 1 more threads\n",
      "INFO - 13:34:24: worker thread finished; awaiting finish of 0 more threads\n",
      "INFO - 13:34:24: EPOCH - 37 : training on 56134 raw words (12835 effective words) took 6.3s, 2035 effective words/s\n",
      "INFO - 13:34:24: worker thread finished; awaiting finish of 6 more threads\n",
      "INFO - 13:34:28: EPOCH 38 - PROGRESS: at 11.12% examples, 352 words/s, in_qsize 5, out_qsize 1\n",
      "INFO - 13:34:28: worker thread finished; awaiting finish of 5 more threads\n",
      "INFO - 13:34:30: EPOCH 38 - PROGRESS: at 28.01% examples, 612 words/s, in_qsize 4, out_qsize 1\n",
      "INFO - 13:34:30: worker thread finished; awaiting finish of 4 more threads\n",
      "INFO - 13:34:30: worker thread finished; awaiting finish of 3 more threads\n",
      "INFO - 13:34:30: worker thread finished; awaiting finish of 2 more threads\n",
      "INFO - 13:34:30: worker thread finished; awaiting finish of 1 more threads\n",
      "INFO - 13:34:30: worker thread finished; awaiting finish of 0 more threads\n",
      "INFO - 13:34:30: EPOCH - 38 : training on 56134 raw words (12838 effective words) took 6.1s, 2112 effective words/s\n",
      "INFO - 13:34:30: worker thread finished; awaiting finish of 6 more threads\n",
      "INFO - 13:34:35: EPOCH 39 - PROGRESS: at 11.12% examples, 299 words/s, in_qsize 5, out_qsize 1\n",
      "INFO - 13:34:35: worker thread finished; awaiting finish of 5 more threads\n",
      "INFO - 13:34:37: EPOCH 39 - PROGRESS: at 28.18% examples, 524 words/s, in_qsize 4, out_qsize 1\n",
      "INFO - 13:34:37: worker thread finished; awaiting finish of 4 more threads\n",
      "INFO - 13:34:37: worker thread finished; awaiting finish of 3 more threads\n",
      "INFO - 13:34:37: worker thread finished; awaiting finish of 2 more threads\n",
      "INFO - 13:34:37: worker thread finished; awaiting finish of 1 more threads\n",
      "INFO - 13:34:37: worker thread finished; awaiting finish of 0 more threads\n",
      "INFO - 13:34:37: EPOCH - 39 : training on 56134 raw words (12801 effective words) took 7.1s, 1811 effective words/s\n",
      "INFO - 13:34:37: worker thread finished; awaiting finish of 6 more threads\n",
      "INFO - 13:34:41: EPOCH 40 - PROGRESS: at 11.12% examples, 308 words/s, in_qsize 5, out_qsize 1\n",
      "INFO - 13:34:41: worker thread finished; awaiting finish of 5 more threads\n",
      "INFO - 13:34:43: EPOCH 40 - PROGRESS: at 28.01% examples, 541 words/s, in_qsize 4, out_qsize 1\n",
      "INFO - 13:34:43: worker thread finished; awaiting finish of 4 more threads\n",
      "INFO - 13:34:43: worker thread finished; awaiting finish of 3 more threads\n",
      "INFO - 13:34:43: worker thread finished; awaiting finish of 2 more threads\n",
      "INFO - 13:34:44: worker thread finished; awaiting finish of 1 more threads\n",
      "INFO - 13:34:44: worker thread finished; awaiting finish of 0 more threads\n",
      "INFO - 13:34:44: EPOCH - 40 : training on 56134 raw words (12624 effective words) took 6.6s, 1907 effective words/s\n",
      "INFO - 13:34:44: training on a 2245360 raw words (510354 effective words) took 269.4s, 1895 effective words/s\n"
     ]
    },
    {
     "data": {
      "text/plain": [
       "(510354, 2245360)"
      ]
     },
     "execution_count": 14,
     "metadata": {},
     "output_type": "execute_result"
    }
   ],
   "source": [
    "w2v_model.train(sentences, total_examples=w2v_model.corpus_count, epochs=40, report_delay=1)"
   ]
  },
  {
   "cell_type": "code",
   "execution_count": 17,
   "id": "8595e1d4",
   "metadata": {},
   "outputs": [
    {
     "name": "stderr",
     "output_type": "stream",
     "text": [
      "INFO - 13:35:01: saving Word2Vec object under tmp_model, separately None\n",
      "INFO - 13:35:01: not storing attribute vectors_norm\n",
      "INFO - 13:35:01: not storing attribute cum_table\n",
      "INFO - 13:35:01: saved tmp_model\n"
     ]
    }
   ],
   "source": [
    "# we can save the model and load it again\n",
    "w2v_model.save('tmp_model')\n",
    "#new_model = gensim.models.Word2Vec.load('tmp_model')"
   ]
  },
  {
   "cell_type": "code",
   "execution_count": 18,
   "id": "44e4942d",
   "metadata": {},
   "outputs": [
    {
     "name": "stderr",
     "output_type": "stream",
     "text": [
      "INFO - 13:35:26: precomputing L2-norms of word weight vectors\n"
     ]
    }
   ],
   "source": [
    "# w2v_model.init_sims(replace=True)\n",
    "w2v_model.init_sims(replace=True)"
   ]
  },
  {
   "cell_type": "code",
   "execution_count": 19,
   "id": "74e14484",
   "metadata": {},
   "outputs": [
    {
     "data": {
      "text/plain": [
       "[('funds', 0.9890653491020203),\n",
       " ('property', 0.9888561964035034),\n",
       " ('investment', 0.9834142327308655),\n",
       " ('equity', 0.9824492335319519),\n",
       " ('private', 0.981529176235199),\n",
       " ('sold', 0.979146420955658),\n",
       " ('stockholm', 0.9786463379859924),\n",
       " ('partners', 0.9778483510017395),\n",
       " ('taken', 0.9772882461547852),\n",
       " ('owns', 0.9764710664749146)]"
      ]
     },
     "execution_count": 19,
     "metadata": {},
     "output_type": "execute_result"
    }
   ],
   "source": [
    "w2v_model.wv.most_similar(positive=[\"fund\"])"
   ]
  },
  {
   "cell_type": "code",
   "execution_count": null,
   "id": "9794f285",
   "metadata": {},
   "outputs": [],
   "source": []
  }
 ],
 "metadata": {
  "kernelspec": {
   "display_name": "Python 3",
   "language": "python",
   "name": "python3"
  },
  "language_info": {
   "codemirror_mode": {
    "name": "ipython",
    "version": 3
   },
   "file_extension": ".py",
   "mimetype": "text/x-python",
   "name": "python",
   "nbconvert_exporter": "python",
   "pygments_lexer": "ipython3",
   "version": "3.8.8"
  }
 },
 "nbformat": 4,
 "nbformat_minor": 5
}
